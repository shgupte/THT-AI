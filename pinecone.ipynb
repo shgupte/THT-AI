{
 "cells": [
  {
   "cell_type": "code",
   "execution_count": 1,
   "metadata": {},
   "outputs": [
    {
     "name": "stderr",
     "output_type": "stream",
     "text": [
      "/Users/sgupte/Documents/GitHub/THT-AI/lib/python3.12/site-packages/pinecone/data/index.py:1: TqdmWarning: IProgress not found. Please update jupyter and ipywidgets. See https://ipywidgets.readthedocs.io/en/stable/user_install.html\n",
      "  from tqdm.autonotebook import tqdm\n"
     ]
    }
   ],
   "source": [
    "import os\n",
    "import time\n",
    "from dotenv import load_dotenv\n",
    "from langchain_community.document_loaders import DirectoryLoader\n",
    "from langchain_huggingface import HuggingFaceEmbeddings\n",
    "from langchain_pinecone import PineconeVectorStore\n",
    "from langchain_text_splitters import RecursiveCharacterTextSplitter\n",
    "from pinecone import Pinecone, ServerlessSpec\n",
    "\n",
    "# This is from our embedding model\n",
    "VECTOR_DIMENSION = 768\n",
    "INDEX_NAME = \"thtpledgeinfo\"\n",
    "\n",
    "load_dotenv()\n",
    "\n",
    "# GROQ_API_KEY needs to be an environment variable (create a .env file for this)\n",
    "key = os.getenv(key=\"GROQ_API_KEY\")\n",
    "from langchain_groq import ChatGroq\n",
    "llm = ChatGroq(model=\"llama3-8b-8192\",api_key=key)"
   ]
  },
  {
   "cell_type": "code",
   "execution_count": null,
   "metadata": {},
   "outputs": [],
   "source": [
    "loader = DirectoryLoader('docs/', glob=\"**/*.txt\")\n",
    "docs = loader.load()\n",
    "\n",
    "embed = HuggingFaceEmbeddings(model_name=\"sentence-transformers/all-mpnet-base-v2\")\n",
    "# May want to play around with chunking sizes to make it run better\n",
    "text_splitter = RecursiveCharacterTextSplitter(chunk_size=1000, chunk_overlap=200)\n",
    "splits = text_splitter.split_documents(docs)\n",
    "\n",
    "# ChromaDB version\n",
    "# vectorstore = Chroma.from_documents(documents=splits, embedding=embed)\n",
    "\n",
    "# Pinecone version -------\n",
    "# pinecone.init(api_key=os.getenv(\"PINECONE_API_KEY\"), environment='us-east-1-aws')\n",
    "pc = Pinecone(os.getenv(key=\"PINECONE_API_KEY\"))\n",
    "spec = ServerlessSpec(cloud='aws', region='us-east-1')  "
   ]
  },
  {
   "cell_type": "code",
   "execution_count": null,
   "metadata": {},
   "outputs": [],
   "source": [
    "try:\n",
    "    pc.delete_index(INDEX_NAME)  \n",
    "except:\n",
    "    print(\"Could not delete index.\")\n",
    "# create a new index  \n",
    "\n",
    "print(\"Creating index...\")\n",
    "pc.create_index(  \n",
    "    INDEX_NAME,  \n",
    "    dimension=VECTOR_DIMENSION,  # dimensionality of text-embedding-ada-002  \n",
    "    metric='cosine',  \n",
    "    spec=spec  \n",
    ")  "
   ]
  },
  {
   "cell_type": "code",
   "execution_count": null,
   "metadata": {},
   "outputs": [],
   "source": []
  }
 ],
 "metadata": {
  "kernelspec": {
   "display_name": "THT-AI",
   "language": "python",
   "name": "python3"
  },
  "language_info": {
   "codemirror_mode": {
    "name": "ipython",
    "version": 3
   },
   "file_extension": ".py",
   "mimetype": "text/x-python",
   "name": "python",
   "nbconvert_exporter": "python",
   "pygments_lexer": "ipython3",
   "version": "3.12.5"
  }
 },
 "nbformat": 4,
 "nbformat_minor": 2
}
